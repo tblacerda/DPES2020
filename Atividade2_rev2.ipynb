{
  "nbformat": 4,
  "nbformat_minor": 0,
  "metadata": {
    "colab": {
      "provenance": [],
      "toc_visible": true
    },
    "kernelspec": {
      "name": "python3",
      "display_name": "Python 3"
    },
    "language_info": {
      "name": "python"
    }
  },
  "cells": [
    {
      "cell_type": "markdown",
      "metadata": {
        "id": "5cttZRuBArzb"
      },
      "source": [
        "# **Lista de exercicios 2**\n",
        "**Professor:** Ricardo Cesar de Andrade\n",
        "***\n",
        "**Alunos:**\n",
        "- Tiago B. Lacerda\n",
        "\n",
        "\n"
      ]
    },
    {
      "cell_type": "markdown",
      "metadata": {
        "id": "r-Agk_WjG504"
      },
      "source": [
        "### **Exercícios a fazer**\n",
        "####Pagina 1\n",
        "---\n",
        "<img src=\"https://drive.google.com/uc?id=1DI6gAj5MdT3wnn-k8vK63ox2z6PcpeyW\" width=\"700\"/>\n",
        "\n",
        "#### Pagina 2\n",
        "---\n",
        "<img src=\"https://drive.google.com/uc?id=1A5DFPZfCnNdsozZVd-xyexr59rcTT46V\" width=\"700\"/>\n",
        "\n",
        "#### Pagina 3\n",
        "---\n",
        "<img src=\"https://drive.google.com/uc?id=1EDU1HqJRSf1BbvW0FYOJcCJeQePfetiL\" width=\"700\"/>\n",
        "\n",
        "\n",
        "\n",
        "\n",
        "\n",
        "\n",
        "\n",
        "\n",
        "\n",
        "\n",
        "\n",
        "\n",
        "\n",
        "\n",
        "\n",
        "\n",
        "\n",
        "\n",
        "\n",
        "\n",
        "\n",
        "\n",
        "\n",
        "\n",
        "\n",
        "\n",
        "\n",
        "\n",
        "\n",
        "\n",
        "\n",
        "\n",
        "\n",
        "\n",
        "\n",
        "\n",
        "\n",
        "\n",
        "\n",
        "\n",
        "\n",
        "\n",
        "\n",
        "\n",
        "\n",
        "\n",
        "\n",
        "\n",
        "\n",
        "\n",
        "\n",
        "\n",
        "\n",
        "\n",
        "\n",
        "\n",
        "\n",
        "\n",
        "\n",
        "\n",
        "\n",
        "\n",
        "\n",
        "\n",
        "\n",
        "\n",
        "\n",
        "\n",
        "\n",
        "\n",
        "\n",
        "\n",
        "\n",
        "\n",
        "\n",
        "\n",
        "\n",
        "\n",
        "\n",
        "\n",
        "\n",
        "\n",
        "\n",
        "\n",
        "\n",
        "\n",
        "\n",
        "\n",
        "\n",
        "\n",
        "\n",
        "\n",
        "\n",
        "\n",
        "\n",
        "\n",
        "\n",
        "\n",
        "\n",
        "\n",
        "\n",
        "\n",
        "\n",
        "\n",
        "\n",
        "\n",
        "\n"
      ]
    },
    {
      "cell_type": "code",
      "metadata": {
        "id": "oWTRzZ1pSIb9",
        "colab": {
          "base_uri": "https://localhost:8080/"
        },
        "outputId": "2b0b59e5-22f1-486c-8bc6-bda9e396065f"
      },
      "source": [
        "#@title **Import de bibliotecas**\n",
        "import pandas as pd\n",
        "import numpy as np\n",
        "import scipy.stats as stats\n",
        "from statistics import stdev\n",
        "import statsmodels.api as sm"
      ],
      "execution_count": null,
      "outputs": [
        {
          "output_type": "stream",
          "text": [
            "/usr/local/lib/python3.7/dist-packages/statsmodels/tools/_testing.py:19: FutureWarning: pandas.util.testing is deprecated. Use the functions in the public API at pandas.testing instead.\n",
            "  import pandas.util.testing as tm\n"
          ],
          "name": "stderr"
        }
      ]
    },
    {
      "cell_type": "code",
      "metadata": {
        "id": "DXKpWri9dIQQ"
      },
      "source": [
        "#confidence_level = 0.95\n",
        "#degrees_freedom = sample.size - 1\n",
        "#sample_mean = np.mean(sample)\n",
        "#sample_standard_error = scipy.stats.sem(sample)\n",
        "\n",
        "\n",
        "#confidence_interval = scipy.stats.t.interval(confidence_level,\n",
        "#                                             degrees_freedom,\n",
        "#                                             sample_mean,\n",
        "#                                             sample_standard_error)"
      ],
      "execution_count": null,
      "outputs": []
    },
    {
      "cell_type": "code",
      "metadata": {
        "colab": {
          "base_uri": "https://localhost:8080/"
        },
        "id": "WxN2_JBezE6r",
        "outputId": "51393f96-5462-4092-859c-598c22d02a1e"
      },
      "source": [
        "#@title Exemplo do livro\n",
        "#@markdown ---\n",
        "media = 500\n",
        "n = 100\n",
        "StdDev = 5 / np.sqrt(n) # precisei dividir por sqrt(n) por que nao sei qual o\n",
        "# parametro para quantidade de amostras da funçãão stats.norm.interval\n",
        "confianca = 0.95\n",
        "intervalo = stats.norm.interval(alpha = confianca, loc=media, scale=StdDev)\n",
        "print('intervalo - Dist Norm', intervalo)\n",
        "intervalo = stats.t.interval(alpha = confianca, loc=media, scale=StdDev, df=n-1)\n",
        "print('intervalo - Dist t-student', intervalo)\n"
      ],
      "execution_count": null,
      "outputs": [
        {
          "output_type": "stream",
          "text": [
            "intervalo - Dist Norm (499.02001800772996, 500.97998199227004)\n",
            "intervalo - Dist t-student (499.0078915242457, 500.9921084757543)\n"
          ],
          "name": "stdout"
        }
      ]
    },
    {
      "cell_type": "code",
      "metadata": {
        "colab": {
          "base_uri": "https://localhost:8080/"
        },
        "id": "9uNC7bJ-fqcx",
        "outputId": "812ff9d5-118d-4721-caaf-066636a3773c"
      },
      "source": [
        "Media_pop = 4.00\n",
        "amostras = np.array([3.91,4.01, 3.61])\n",
        "n = len(amostras)\n",
        "df = n-1\n",
        "media_amostra = np.average(amostras)\n",
        "confianca = 0.95\n",
        "StdDev = stdev(amostras) / np.sqrt(3)\n",
        "intervalo = stats.t.interval(alpha = confianca, loc=media_amostra, scale=StdDev, df=df)\n",
        "print('Méédia: ', media_amostra)\n",
        "print('desvio padrao: ', StdDev)\n",
        "print('n', n)\n",
        "print('intervalo - Dist t-student', intervalo)\n"
      ],
      "execution_count": null,
      "outputs": [
        {
          "output_type": "stream",
          "text": [
            "Méédia:  3.8433333333333333\n",
            "desvio padrao:  0.12018504251546631\n",
            "n 3\n",
            "intervalo - Dist t-student (3.3262188320596593, 4.360447834607007)\n"
          ],
          "name": "stdout"
        }
      ]
    },
    {
      "cell_type": "code",
      "metadata": {
        "id": "tiJAfeMiAsjn",
        "colab": {
          "base_uri": "https://localhost:8080/"
        },
        "outputId": "e1c43b8d-1781-41d2-8c91-c8b7f6b88993"
      },
      "source": [
        "#@title **1. Questão** ok\n",
        "#@markdown ---\n",
        "n =  25 # pecas\n",
        "#@markdown média amostral de 5.2 mm. Medidas seguem distribuição normal\n",
        "media_amostral = 5.2\n",
        "SdPop = 1.2 / np.sqrt(n)\n",
        "#@markdown Devio Padrao populacional = 1.2 mm.\n",
        "#@markdown construir os IC\n",
        "ICs = np.array([0.9, 0.95, 0.99])\n",
        "\n",
        "for ic in ICs:\n",
        "\n",
        "  calculo = stats.norm.interval(alpha=ic,\n",
        "                 #  df=n-1,\n",
        "                   loc=media_amostral,\n",
        "                   scale=SdPop\n",
        "                   )\n",
        "  print(\"Intervalo para %0.3f de confiança: [%0.2f,%0.2f] \\\n",
        "        \"%(ic, calculo[0],calculo[1]))"
      ],
      "execution_count": null,
      "outputs": [
        {
          "output_type": "stream",
          "text": [
            "Intervalo para 0.900 de confiança: [4.81,5.59]         \n",
            "Intervalo para 0.950 de confiança: [4.73,5.67]         \n",
            "Intervalo para 0.990 de confiança: [4.58,5.82]         \n"
          ],
          "name": "stdout"
        }
      ]
    },
    {
      "cell_type": "code",
      "metadata": {
        "colab": {
          "base_uri": "https://localhost:8080/"
        },
        "id": "UvHU7rtaJAeN",
        "outputId": "5abe44fc-f2e0-48b1-f9ed-50f735b9402e"
      },
      "source": [
        "amostra = np.array([25.2, 26, 27.1, 28.2, 28.4])\n",
        "np.average(amostra)"
      ],
      "execution_count": null,
      "outputs": [
        {
          "output_type": "execute_result",
          "data": {
            "text/plain": [
              "26.98"
            ]
          },
          "metadata": {
            "tags": []
          },
          "execution_count": 6
        }
      ]
    },
    {
      "cell_type": "code",
      "metadata": {
        "colab": {
          "base_uri": "https://localhost:8080/"
        },
        "id": "bfmzOuDgFlFB",
        "outputId": "9a11ca9e-a291-4e22-dedf-a50a0c2b9486"
      },
      "source": [
        "#@title **2. Questão** ok\n",
        "#@markdown ---\n",
        "\n",
        "var = 1.96\n",
        "SdAmostra = np.sqrt(var)\n",
        "amostra = np.array([25.2, 26, 27.1, 28.2, 28.4])\n",
        "Alpha = np.array([0.05, 0.10])\n",
        "media = np.average(amostra)\n",
        "\n",
        "for alpha in Alpha:\n",
        "\n",
        "  calculo = stats.norm.interval(alpha=1-alpha,\n",
        "                  # df=len(amostra)-1,\n",
        "                   loc=media,\n",
        "                   scale=SdAmostra / np.sqrt(len(amostra))\n",
        "                   )\n",
        "  print(\"Intervalo para %0.3f de confiança: [%0.2f,%0.2f] \\\n",
        "        \"%(alpha, calculo[0],calculo[1]))"
      ],
      "execution_count": null,
      "outputs": [
        {
          "output_type": "stream",
          "text": [
            "Intervalo para 0.050 de confiança: [25.75,28.21]         \n",
            "Intervalo para 0.100 de confiança: [25.95,28.01]         \n"
          ],
          "name": "stdout"
        }
      ]
    },
    {
      "cell_type": "code",
      "metadata": {
        "colab": {
          "base_uri": "https://localhost:8080/"
        },
        "id": "1rCnpCpLK3s_",
        "outputId": "d2cfe99e-0534-4467-eef5-34a2e8da1866"
      },
      "source": [
        "#@title **3. Questão** ok\n",
        "#@markdown ---\n",
        "\n",
        "stDev = 15\n",
        "n = 100 # alunos\n",
        "mediaAmostral = 175\n",
        "confianca = 0.95\n",
        "Alpha = np.array([0.05])\n",
        "\n",
        "for alpha in Alpha:\n",
        "\n",
        "  calculo = stats.t.interval(alpha=1-alpha,\n",
        "                   df=n-1,\n",
        "                   loc=mediaAmostral,\n",
        "                   scale=stDev / np.sqrt(n))\n",
        "\n",
        "  print(\"Intervalo para %0.2f de confiança: [%0.2f,%0.2f] \\\n",
        "        \"%(alpha*100, calculo[0],calculo[1]))"
      ],
      "execution_count": null,
      "outputs": [
        {
          "output_type": "stream",
          "text": [
            "Intervalo para 5.00 de confiança: [172.02,177.98]         \n"
          ],
          "name": "stdout"
        }
      ]
    },
    {
      "cell_type": "code",
      "metadata": {
        "colab": {
          "base_uri": "https://localhost:8080/"
        },
        "id": "OrNgvwD9NTJV",
        "outputId": "f92e654a-964b-426c-d4bf-3f78e1a78cbe"
      },
      "source": [
        "#@title **4. Questão** ok\n",
        "#@markdown ---\n",
        "\n",
        "stDev = 10\n",
        "n = 10\n",
        "mediaAmostral = 110\n",
        "Confianca = np.array([0.90, 0.95])\n",
        "\n",
        "\n",
        "for ic in Confianca:\n",
        "\n",
        "  calculo = stats.t.interval(alpha=ic,\n",
        "                   df=n-1,\n",
        "                   loc=mediaAmostral,\n",
        "                   scale=stDev / np.sqrt(n))\n",
        "\n",
        "  print(\"Intervalo para %0.2f de confiança: [%0.3f,%0.3f] \\\n",
        "        \"%(ic*100, calculo[0],calculo[1]))"
      ],
      "execution_count": null,
      "outputs": [
        {
          "output_type": "stream",
          "text": [
            "Intervalo para 90.00 de confiança: [104.203,115.797]         \n",
            "Intervalo para 95.00 de confiança: [102.846,117.154]         \n"
          ],
          "name": "stdout"
        }
      ]
    },
    {
      "cell_type": "code",
      "metadata": {
        "colab": {
          "base_uri": "https://localhost:8080/"
        },
        "id": "5QKg6XG8OEYA",
        "outputId": "1d8341b3-65cf-4f57-ca8c-3332534d661a"
      },
      "source": [
        "#@title **5. Questão** ok\n",
        "#@markdown ---\n",
        "\n",
        "\n",
        "elementos = np.array([7,7,8,9,9,9,10,11,11,11,12,13,13,14,15,15])\n",
        "\n",
        "stDev = stdev(elementos)\n",
        "n = len(elementos)\n",
        "mediaAmostral = np.average(elementos)\n",
        "Confianca = np.array([0.975,0.75])\n",
        "\n",
        "\n",
        "for ic in Confianca:\n",
        "\n",
        "  calculo = stats.t.interval(alpha=ic,\n",
        "                   df=n-1,\n",
        "                   loc=mediaAmostral,\n",
        "                   scale=stDev / np.sqrt(n))\n",
        "\n",
        "  print(\"Intervalo para %0.2f de confiança: [%0.3f,%0.3f] \\\n",
        "        \"%(ic*100, calculo[0],calculo[1]))\n"
      ],
      "execution_count": null,
      "outputs": [
        {
          "output_type": "stream",
          "text": [
            "Intervalo para 97.50 de confiança: [9.350,12.400]         \n",
            "Intervalo para 75.00 de confiança: [10.142,11.608]         \n"
          ],
          "name": "stdout"
        }
      ]
    },
    {
      "cell_type": "code",
      "metadata": {
        "colab": {
          "base_uri": "https://localhost:8080/"
        },
        "id": "_WO_jvrCPsw7",
        "outputId": "c08cf030-6455-4c7e-f26a-a669517588b0"
      },
      "source": [
        "#@title **6. Questão** ok\n",
        "#@markdown ---\n",
        "\n",
        "n = 30\n",
        "Elementos = np.array([250,265,267,269,271,275,277,281,283,284,\n",
        "                    287,289,291,293,293,298,301,303,306,307,\n",
        "                    307,309,311,315,319,322,324,328,335,339])\n",
        "Alpha = np.array([0.05])\n",
        "\n",
        "#peso médio deve ter 300kg\n",
        "\n",
        "stDev = stdev(Elementos)\n",
        "n = len(Elementos)\n",
        "mediaAmostral = np.average(Elementos)\n",
        "\n",
        "for alpha in Alpha:\n",
        "  calculo = stats.t.interval(alpha=1-alpha,\n",
        "                   df= n-1,\n",
        "                   loc= mediaAmostral,\n",
        "                   scale= stDev/np.sqrt(n))\n",
        "\n",
        "  print(\"Intervalo para %0.2f de confiança: [%0.3f,%0.3f] \\\n",
        "        \"%(alpha*100, calculo[0],calculo[1]))\n",
        "\n",
        "#@markdown Como o intervalo de confianca contem o valor da media requerida,\n",
        "#@markdown podemos afirmar que a amostra satisfaz o requisito com 95% de confiança\n"
      ],
      "execution_count": null,
      "outputs": [
        {
          "output_type": "stream",
          "text": [
            "Intervalo para 5.00 de confiança: [288.334,304.933]         \n"
          ],
          "name": "stdout"
        }
      ]
    },
    {
      "cell_type": "code",
      "metadata": {
        "colab": {
          "base_uri": "https://localhost:8080/"
        },
        "id": "P3xXrLLqTesd",
        "outputId": "e90d4476-bb89-4d8c-8e40-4feb415fa804"
      },
      "source": [
        "#@title **7. Questão** ok\n",
        "#@markdown ---\n",
        "\n",
        "Elementos = np.array([10,11,11,11,12,12,12,12,13,13,\n",
        "                     13,13,13,13,13,13,13,13,13,13,\n",
        "                     14,14,14,14,14,15,15,15,16,16])\n",
        "Alpha = np.array([0.05])\n",
        "\n",
        "\n",
        "n = len(Elementos)\n",
        "\n",
        "stDev = stdev(Elementos)\n",
        "n = len(Elementos)\n",
        "mediaAmostral = np.average(Elementos)\n",
        "\n",
        "print('A. Media = %0.2f'%(mediaAmostral))\n",
        "print('B. Variancia = %0.2f'%(stDev**2))\n",
        "\n",
        "for alpha in Alpha:\n",
        "  calculo = stats.t.interval(alpha=1-alpha,\n",
        "                   df= n-1,\n",
        "                   loc= mediaAmostral,\n",
        "                   scale= stDev/np.sqrt(n))\n",
        "\n",
        "  print(\"Intervalo para %0.2f de confiança: [%0.3f,%0.3f] \\\n",
        "        \"%(alpha*100, calculo[0],calculo[1]))\n"
      ],
      "execution_count": null,
      "outputs": [
        {
          "output_type": "stream",
          "text": [
            "A. Media = 13.13\n",
            "B. Variancia = 2.00\n",
            "Intervalo para 5.00 de confiança: [12.605,13.661]         \n"
          ],
          "name": "stdout"
        }
      ]
    },
    {
      "cell_type": "code",
      "metadata": {
        "colab": {
          "base_uri": "https://localhost:8080/"
        },
        "id": "nPtPmAAalS05",
        "outputId": "4f7850eb-319d-4ff7-ce4b-cc973674fd60"
      },
      "source": [
        "#@title **8. Questão** ok\n",
        "#@markdown ---\n",
        "\n",
        "n = 4\n",
        "mediaAmostral = 29.2\n",
        "var = 5.76\n",
        "Alpha = np.array([.10])\n",
        "stDev = np.sqrt(var)\n",
        "\n",
        "print('A. Media = %0.2f'%(mediaAmostral))\n",
        "print('B. Variancia = %0.2f'%(stDev))\n",
        "\n",
        "for alpha in Alpha:\n",
        "  calculo = stats.t.interval(alpha=1-alpha,\n",
        "                   df= n-1,\n",
        "                   loc= mediaAmostral,\n",
        "                   scale= stDev/np.sqrt(n))\n",
        "\n",
        "  print(\"Intervalo para %0.2f de confiança: [%0.3f,%0.3f] \\\n",
        "        \"%(100 - alpha*100, calculo[0],calculo[1]))"
      ],
      "execution_count": null,
      "outputs": [
        {
          "output_type": "stream",
          "text": [
            "A. Media = 29.20\n",
            "B. Variancia = 2.40\n",
            "Intervalo para 90.00 de confiança: [26.376,32.024]         \n"
          ],
          "name": "stdout"
        }
      ]
    },
    {
      "cell_type": "code",
      "metadata": {
        "id": "4YwaAEf0nUUw",
        "colab": {
          "base_uri": "https://localhost:8080/"
        },
        "outputId": "40f9627e-fce7-4fe4-c44e-0a30d6e29a5c"
      },
      "source": [
        "#@title **9. Questão** nok\n",
        "#@markdown ---\n",
        "\n",
        "#A\n",
        "classes = ['0-5', '5-10', '10-15', '15-20']\n",
        "Fi = [2,3,5,2]\n",
        "\n",
        "#B\n",
        "classes = ['15-18', '18-21', '21-24', '24-27','27-30','30-33']\n",
        "Fi = [8,9,12,15,7,4]\n",
        "\n",
        "#C\n",
        "classes = ['2.2-6.2', '6.2-10.2', '10.2-14.2', '14.2-18.2']\n",
        "Fi = [3,4,5,3]\n",
        "\n",
        "n = 4\n",
        "mediaAmostral = 29.2\n",
        "var = 5.76\n",
        "Alpha = np.array([.10])\n",
        "stDev = np.sqrt(var)\n",
        "\n",
        "print('A. Media = %0.2f'%(mediaAmostral))\n",
        "print('B. Variancia = %0.2f'%(stDev))\n",
        "\n",
        "for alpha in Alpha:\n",
        "  calculo = stats.t.interval(alpha=1-alpha,\n",
        "                   df= n-1,\n",
        "                   loc= mediaAmostral,\n",
        "                   scale= stDev/np.sqrt(n))\n",
        "\n",
        "  print(\"Intervalo para %0.2f de confiança: [%0.3f,%0.3f] \\\n",
        "        \"%(100 - alpha*100, calculo[0],calculo[1]))\n",
        "\n"
      ],
      "execution_count": null,
      "outputs": [
        {
          "output_type": "stream",
          "text": [
            "A. Media = 29.20\n",
            "B. Variancia = 2.40\n",
            "Intervalo para 90.00 de confiança: [26.376,32.024]         \n"
          ],
          "name": "stdout"
        }
      ]
    },
    {
      "cell_type": "code",
      "metadata": {
        "colab": {
          "base_uri": "https://localhost:8080/"
        },
        "id": "sckJ72zN2cVx",
        "outputId": "67335293-5ecc-4d68-ec14-b72425775fb0"
      },
      "source": [
        "#@title **10. Questão** ok\n",
        "#@markdown ---\n",
        "\n",
        "def QuiQuadrado(n, confianca):\n",
        "\n",
        "  if n==9 and confianca==0.9:\n",
        "    return [3.33, 16.9]\n",
        "  elif n==4 and confianca==0.9:\n",
        "    return [0.711, 9.49]\n",
        "  elif n==5 and confianca==0.9:\n",
        "    return [1.15, 11.1]\n",
        "  elif n==14 and confianca==0.9: #\n",
        "    return [6.57, 23.7]\n",
        "  else:\n",
        "    return [1,1]\n",
        "\n",
        "def CalculoQuiQuadrado(n, Variancia, confianca):\n",
        "\n",
        "  intervalo = QuiQuadrado(n-1,confianca)\n",
        "  inferior = (n-1)*Variancia / intervalo[1]\n",
        "  superior = (n-1)*Variancia / intervalo[0]\n",
        "\n",
        "  return inferior,superior\n",
        "\n",
        "confianca= 0.90\n",
        "\n",
        "Amostra_a = np.array([44.9,44.1,43,42.9,43.2,44.5])\n",
        "Amostra_b = np.array([2,2,2,3,3,4,5,5,5,5,6,6,7,7,8])\n",
        "\n",
        "amostra = Amostra_a\n",
        "stdDev = stdev(amostra)\n",
        "var = stdDev**2\n",
        "intervalo = CalculoQuiQuadrado(len(amostra),var,confianca)\n",
        "print('Intervalo da letra A', intervalo)\n",
        "\n",
        "amostra = Amostra_b\n",
        "stdDev = stdev(amostra)\n",
        "var = stdDev**2\n",
        "intervalo = CalculoQuiQuadrado(len(amostra),var,confianca)\n",
        "print('Intervalo da letra B', intervalo)\n",
        "\n",
        "#QuiQuadrado(4,0.9)[0]\n"
      ],
      "execution_count": null,
      "outputs": [
        {
          "output_type": "stream",
          "text": [
            "Intervalo da letra A (0.32372372372372343, 3.1246376811594176)\n",
            "Intervalo da letra B (1.772151898734177, 6.392694063926939)\n"
          ],
          "name": "stdout"
        }
      ]
    },
    {
      "cell_type": "code",
      "metadata": {
        "colab": {
          "base_uri": "https://localhost:8080/"
        },
        "id": "0XVXuH93o60S",
        "outputId": "9f94c1a2-2e98-4b7d-9369-d958f571f67d"
      },
      "source": [
        "#@title **11. Questão** ok\n",
        "#@markdown ---\n",
        "\n",
        "\n",
        "def QuiQuadrado(n, confianca):\n",
        "\n",
        "  if n==9 and confianca==0.9:\n",
        "    return [3.33, 16.9]\n",
        "  elif n==4 and confianca==0.9:\n",
        "    return [0.711, 9.49]\n",
        "  elif n==5 and confianca==0.9:\n",
        "    return [1.15, 11.1]\n",
        "  elif n==14 and confianca==0.9:\n",
        "    return [6.57, 23.7]\n",
        "  elif n==9 and confianca==0.8:\n",
        "    return [4.17, 14.7]\n",
        "  else:\n",
        "    return [1,1]\n",
        "\n",
        "def CalculoQuiQuadrado(n, Variancia, confianca):\n",
        "\n",
        "  intervalo = QuiQuadrado(n-1,confianca)\n",
        "  inferior = (n-1)*Variancia / intervalo[1]\n",
        "  superior = (n-1)*Variancia / intervalo[0]\n",
        "\n",
        "  return inferior,superior\n",
        "\n",
        "n=10\n",
        "var = 2.25\n",
        "confianca = 0.8\n",
        "\n",
        "intervalo = CalculoQuiQuadrado(n,var,confianca)\n",
        "print('Intervalo: ', intervalo)"
      ],
      "execution_count": null,
      "outputs": [
        {
          "output_type": "stream",
          "text": [
            "Intervalo:  (1.3775510204081634, 4.856115107913669)\n"
          ],
          "name": "stdout"
        }
      ]
    },
    {
      "cell_type": "code",
      "metadata": {
        "id": "swK45E2utp_O",
        "colab": {
          "base_uri": "https://localhost:8080/"
        },
        "outputId": "5d36305a-6e68-4b04-c403-1679528d9cd4"
      },
      "source": [
        "#@title **12. Questão** ok\n",
        "#@markdown ---\n",
        "\n",
        "\n",
        "def QuiQuadrado(n, confianca):\n",
        "\n",
        "  if n==9 and confianca==0.9:\n",
        "    return [3.33, 16.9]\n",
        "  elif n==4 and confianca==0.9:\n",
        "    return [0.711, 9.49]\n",
        "  elif n==5 and confianca==0.9:\n",
        "    return [1.15, 11.1]\n",
        "  elif n==14 and confianca==0.9:\n",
        "    return [6.57, 23.7]\n",
        "  elif n==9 and confianca==0.8:\n",
        "    return [2.09, 14.7]\n",
        "  elif n==14 and confianca==0.95:\n",
        "    return [5.63, 26.1]\n",
        "  else:\n",
        "    return [1,1]\n",
        "\n",
        "def CalculoQuiQuadrado(n, Variancia, confianca):\n",
        "\n",
        "  intervalo = QuiQuadrado(n-1,confianca)\n",
        "  inferior = (n)*Variancia / intervalo[1]\n",
        "  superior = (n)*Variancia / intervalo[0]\n",
        "\n",
        "  return inferior,superior\n",
        "\n",
        "#dados\n",
        "n=15\n",
        "sum = 8.7\n",
        "media = sum / n\n",
        "square_sum = 27.3\n",
        "confianca = 0.95\n",
        "variancia = (square_sum / n) - media*media\n",
        "\n",
        "intervalo = CalculoQuiQuadrado(n,variancia,confianca)\n",
        "print('Intervalo: ', intervalo)\n",
        "\n"
      ],
      "execution_count": null,
      "outputs": [
        {
          "output_type": "stream",
          "text": [
            "Intervalo:  (0.8526436781609196, 3.9527531083481353)\n"
          ],
          "name": "stdout"
        }
      ]
    },
    {
      "cell_type": "code",
      "metadata": {
        "colab": {
          "base_uri": "https://localhost:8080/"
        },
        "id": "Tr1UL81huDn7",
        "outputId": "74f87fbc-dce9-4ff4-94bd-0a01d40a4d0a"
      },
      "source": [
        "#@title **13. Questão** ok\n",
        "#@markdown ---\n",
        "\n",
        "def QuiQuadrado(n, confianca):\n",
        "\n",
        "  if n==9 and confianca==0.9:\n",
        "    return [3.33, 16.9]\n",
        "  elif n==4 and confianca==0.9:\n",
        "    return [0.711, 9.49]\n",
        "  elif n==5 and confianca==0.9:\n",
        "    return [1.15, 11.1]\n",
        "  elif n==14 and confianca==0.9:\n",
        "    return [6.57, 23.7]\n",
        "  elif n==9 and confianca==0.8:\n",
        "    return [2.09, 14.7]\n",
        "  elif n==29 and confianca==0.99:\n",
        "    return [13.1, 58.3]\n",
        "  else:\n",
        "    return [1,1]\n",
        "\n",
        "def CalculoQuiQuadrado(n, Variancia, confianca):\n",
        "\n",
        "  intervalo = QuiQuadrado(n-1,confianca)\n",
        "  inferior = (n-1)*Variancia / intervalo[1]\n",
        "  superior = (n-1)*Variancia / intervalo[0]\n",
        "\n",
        "  return inferior,superior\n",
        "\n",
        "#dados\n",
        "Elementos = np.array([250,265,267,269,271,275,277,281,283,284,\n",
        "                    287,289,291,293,293,298,301,303,306,307,\n",
        "                    307,309,311,315,319,322,324,328,335,339])\n",
        "\n",
        "confianca = 0.99\n",
        "\n",
        "#peso médio deve ter 300kg\n",
        "\n",
        "stDev = stdev(Elementos)\n",
        "var = stDev**2\n",
        "n = len(Elementos)\n",
        "mediaAmostral = np.average(Elementos)\n",
        "\n",
        "\n",
        "intervalo = CalculoQuiQuadrado(n,var,confianca)\n",
        "print('Intervalo: ', intervalo)\n",
        "\n"
      ],
      "execution_count": null,
      "outputs": [
        {
          "output_type": "stream",
          "text": [
            "Intervalo:  (245.728987993139, 1093.587786259542)\n"
          ],
          "name": "stdout"
        }
      ]
    },
    {
      "cell_type": "code",
      "metadata": {
        "id": "MOY2cl_twXWH",
        "colab": {
          "base_uri": "https://localhost:8080/"
        },
        "outputId": "61ddb015-e887-429f-b690-3dc68a7be285"
      },
      "source": [
        "#@title **14. Questão** nok\n",
        "#@markdown ---\n",
        "\n",
        "def QuiQuadrado(n, confianca):\n",
        "\n",
        "  if n==9 and confianca==0.9:\n",
        "    return [3.33, 16.9]\n",
        "  elif n==4 and confianca==0.9:\n",
        "    return [0.711, 9.49]\n",
        "  elif n==5 and confianca==0.9:\n",
        "    return [1.15, 11.1]\n",
        "  elif n==14 and confianca==0.9:\n",
        "    return [6.57, 23.7]\n",
        "  elif n==9 and confianca==0.8:\n",
        "    return [2.09, 14.7]\n",
        "  elif n==29 and confianca==0.99:\n",
        "    return [13.1, 58.3]\n",
        "  else:\n",
        "    return [1,1]\n",
        "\n",
        "def CalculoQuiQuadrado(n, Variancia, confianca):\n",
        "\n",
        "  intervalo = QuiQuadrado(n-1,confianca)\n",
        "  inferior = (n-1)*Variancia / intervalo[1]\n",
        "  superior = (n-1)*Variancia / intervalo[0]\n",
        "\n",
        "  return inferior,superior\n",
        "\n",
        "#dados\n",
        "Elementos = np.array([250,265,267,269,271,275,277,281,283,284,\n",
        "                    287,289,291,293,293,298,301,303,306,307,\n",
        "                    307,309,311,315,319,322,324,328,335,339])\n",
        "\n",
        "confianca = 0.99\n",
        "\n",
        "#peso médio deve ter 300kg\n",
        "\n",
        "stDev = stdev(Elementos)\n",
        "var = stDev**2\n",
        "n = len(Elementos)\n",
        "mediaAmostral = np.average(Elementos)\n",
        "\n",
        "\n",
        "intervalo = CalculoQuiQuadrado(n,var,confianca)\n",
        "print('Intervalo: ', intervalo)\n",
        "\n"
      ],
      "execution_count": null,
      "outputs": [
        {
          "output_type": "stream",
          "text": [
            "Intervalo:  (245.728987993139, 1093.587786259542)\n"
          ],
          "name": "stdout"
        }
      ]
    },
    {
      "cell_type": "code",
      "metadata": {
        "colab": {
          "base_uri": "https://localhost:8080/"
        },
        "id": "SmMoCDBuwXvu",
        "outputId": "8933e5a0-5398-4422-d9f8-e08f16be59ed"
      },
      "source": [
        "#@title **15. Questão** ok\n",
        "#@markdown ---\n",
        "\n",
        "n = 100\n",
        "Z = 1.96 # 95% de confianca\n",
        "f = 93 / 100\n",
        "intervalo = Z * np.sqrt((f*(1-f))/n)\n",
        "confianca = 0.95\n",
        "print(\"Intervalo para %0.2f de confiança: [%0.3f,%0.3f] \\\n",
        "        \"%(confianca,f - intervalo,f + intervalo))"
      ],
      "execution_count": null,
      "outputs": [
        {
          "output_type": "stream",
          "text": [
            "Intervalo para 0.95 de confiança: [0.880,0.980]         \n"
          ],
          "name": "stdout"
        }
      ]
    },
    {
      "cell_type": "code",
      "metadata": {
        "id": "E5Cc6Z9X0-B2",
        "colab": {
          "base_uri": "https://localhost:8080/"
        },
        "outputId": "c7401e40-32ff-41ef-bdf9-61cd734dde2a"
      },
      "source": [
        "#@title **16. Questão** OK\n",
        "#@markdown ---\n",
        "\n",
        "n = 400\n",
        "Z = 2.33 # 98% de confianca\n",
        "f = 0.25\n",
        "intervalo = Z * np.sqrt((f*(1-f))/(n))\n",
        "confianca = 0.98\n",
        "print(\"Intervalo para %0.2f de confiança: [%0.2f,%0.2f] \\\n",
        "        \"%(confianca,f - intervalo,f + intervalo))"
      ],
      "execution_count": null,
      "outputs": [
        {
          "output_type": "stream",
          "text": [
            "Intervalo para 0.98 de confiança: [0.20,0.30]         \n"
          ],
          "name": "stdout"
        }
      ]
    },
    {
      "cell_type": "code",
      "metadata": {
        "colab": {
          "base_uri": "https://localhost:8080/"
        },
        "id": "4oLFd_vD0-S_",
        "outputId": "af8be856-f58b-4ab9-a22a-fcd61fce1ec2"
      },
      "source": [
        "#@title **17. Questão** OK\n",
        "#@markdown ---\n",
        "\n",
        "n = 50\n",
        "confianca = 0.96\n",
        "Z = 2.06 # 96% de confianca\n",
        "f = 30/50\n",
        "intervalo = Z * np.sqrt((f*(1-f))/n)\n",
        "\n",
        "print(\"Intervalo para %0.2f de confiança: [%0.3f,%0.3f] \\\n",
        "        \"%(confianca,f - intervalo,f + intervalo))\n",
        "\n",
        "print('Não se pode dizer que a moeda é viciada pois a proporção, 0,6, obtida está no')\n",
        "print('intervalo de confiança calculado')"
      ],
      "execution_count": null,
      "outputs": [
        {
          "output_type": "stream",
          "text": [
            "Intervalo para 0.98 de confiança: [0.205,0.295]         \n",
            "Não se pode dizer que a moeda é viciada pois a proporção, 0,6, obtida está no\n",
            "intervalo de confiança calculado\n"
          ],
          "name": "stdout"
        }
      ]
    },
    {
      "cell_type": "code",
      "metadata": {
        "colab": {
          "base_uri": "https://localhost:8080/"
        },
        "id": "KSdWNBIG0-Pz",
        "outputId": "726cb757-3c18-43b4-c2cc-420e6c7fd1e8"
      },
      "source": [
        "#@title **18. Questão** OK\n",
        "#@markdown ---\n",
        "\n",
        "n = 400\n",
        "Z = 2.34 # 98% de confianca\n",
        "f = 0.25\n",
        "intervalo = Z * np.sqrt((f*(1-f))/n)\n",
        "confianca = 0.98\n",
        "print(\"Intervalo para %0.2f de confiança: [%0.3f,%0.3f] \\\n",
        "        \"%(confianca,f - intervalo,f + intervalo))"
      ],
      "execution_count": null,
      "outputs": [
        {
          "output_type": "stream",
          "text": [
            "Intervalo para 0.98 de confiança: [0.199,0.301]         \n"
          ],
          "name": "stdout"
        }
      ]
    },
    {
      "cell_type": "code",
      "metadata": {
        "colab": {
          "base_uri": "https://localhost:8080/"
        },
        "id": "SF9DOlPK0-WZ",
        "outputId": "f0057624-7417-4b6f-9b32-ea838786af7c"
      },
      "source": [
        "#@title **19. Questão** OK\n",
        "#@markdown ---\n",
        "\n",
        "\n",
        "amostra = 300\n",
        "favoraveis = 180\n",
        "f = favoraveis / amostra\n",
        "confianca = np.array([0.90, 0.95])\n",
        "Z = np.array([1.64, 1.96])\n",
        "intervalo0 = Z[0] * np.sqrt(f*(1-f)/amostra)\n",
        "intervalo1 = Z[1] * np.sqrt(f*(1-f)/amostra)\n",
        "\n",
        "print(\"Intervalo para %0.2f de confiança: [%0.3f,%0.3f] \\\n",
        "         \"%(confianca[0],f - intervalo0,f + intervalo0))\n",
        "print(\"Intervalo para %0.2f de confiança: [%0.3f,%0.3f] \\\n",
        "         \"%(confianca[1],f - intervalo1,f + intervalo1))\n"
      ],
      "execution_count": null,
      "outputs": [
        {
          "output_type": "stream",
          "text": [
            "Intervalo para 0.90 de confiança: [0.554,0.646]          \n",
            "Intervalo para 0.95 de confiança: [0.545,0.655]          \n"
          ],
          "name": "stdout"
        }
      ]
    },
    {
      "cell_type": "markdown",
      "metadata": {
        "id": "T-h4sklkqrnm"
      },
      "source": [
        "## Referencias\n",
        "----\n",
        "* https://towardsdatascience.com/a-complete-guide-to-confidence-interval-and-examples-in-python-ff417c5cb593"
      ]
    },
    {
      "cell_type": "code",
      "metadata": {
        "id": "xB6TFNd3quAT"
      },
      "source": [],
      "execution_count": null,
      "outputs": []
    }
  ]
}